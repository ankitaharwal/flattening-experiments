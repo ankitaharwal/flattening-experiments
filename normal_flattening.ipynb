{
 "cells": [
  {
   "cell_type": "code",
   "execution_count": 1,
   "metadata": {},
   "outputs": [],
   "source": [
    "import numpy as np\n",
    "from sklearn.metrics import classification_report\n",
    "import matplotlib.pyplot as plt\n",
    "import h5py\n",
    "import time\n",
    "np.random.seed(42)"
   ]
  },
  {
   "cell_type": "code",
   "execution_count": 2,
   "metadata": {},
   "outputs": [],
   "source": [
    "# load MNIST data\n",
    "opt={\"n_h\":64,\"n_x\":784,\"lr\":0.5,\"beta\":0.9,\"batch_size\":64,\"epochs\":50}\n",
    "MNIST_data = h5py.File(\"MNISTdata.hdf5\", 'r')\n",
    "x_train = np.float32(MNIST_data['x_train'][:])\n",
    "y_train = np.int32(np.array(MNIST_data['y_train'][:, 0])).reshape(-1, 1)\n",
    "x_test  = np.float32(MNIST_data['x_test'][:])\n",
    "y_test  = np.int32(np.array(MNIST_data['y_test'][:, 0])).reshape(-1, 1)\n",
    "MNIST_data.close()\n",
    "\n",
    "\n",
    "# stack together for next step\n",
    "X = np.vstack((x_train, x_test))\n",
    "y = np.vstack((y_train, y_test))\n",
    "\n",
    "\n",
    "# one-hot encoding\n",
    "digits = 10\n",
    "examples = y.shape[0]\n",
    "y = y.reshape(1, examples)\n",
    "Y_new = np.eye(digits)[y.astype('int32')]\n",
    "Y_new = Y_new.T.reshape(digits, examples)\n",
    "\n",
    "\n",
    "# number of training set\n",
    "m = 60000\n",
    "m_test = X.shape[0] - m\n",
    "X_train, X_test = X[:m].T, X[m:].T\n",
    "Y_train, Y_test = Y_new[:, :m], Y_new[:, m:]\n",
    "\n",
    "\n",
    "# shuffle training set\n",
    "shuffle_index = np.random.permutation(m)\n",
    "X_train, Y_train = X_train[:, shuffle_index], Y_train[:, shuffle_index]"
   ]
  },
  {
   "cell_type": "code",
   "execution_count": 3,
   "metadata": {},
   "outputs": [
    {
     "name": "stdout",
     "output_type": "stream",
     "text": [
      "7\n"
     ]
    },
    {
     "data": {
      "image/png": "[encoded data removed]",
      "text/plain": [
       "<Figure size 432x288 with 1 Axes>"
      ]
     },
     "metadata": {
      "needs_background": "light"
     },
     "output_type": "display_data"
    },
    {
     "name": "stdout",
     "output_type": "stream",
     "text": [
      "3\n"
     ]
    },
    {
     "data": {
      "image/png": "[encoded data removed]",
      "text/plain": [
       "<Figure size 432x288 with 1 Axes>"
      ]
     },
     "metadata": {
      "needs_background": "light"
     },
     "output_type": "display_data"
    },
    {
     "name": "stdout",
     "output_type": "stream",
     "text": [
      "8\n"
     ]
    },
    {
     "data": {
      "image/png": "[encoded data removed]",
      "text/plain": [
       "<Figure size 432x288 with 1 Axes>"
      ]
     },
     "metadata": {
      "needs_background": "light"
     },
     "output_type": "display_data"
    },
    {
     "name": "stdout",
     "output_type": "stream",
     "text": [
      "9\n"
     ]
    },
    {
     "data": {
      "image/png": "[encoded data removed]",
      "text/plain": [
       "<Figure size 432x288 with 1 Axes>"
      ]
     },
     "metadata": {
      "needs_background": "light"
     },
     "output_type": "display_data"
    }
   ],
   "source": [
    "for i in range(4):\n",
    "    x=Y_train.argmax(axis=0).T[i]\n",
    "    print(x)\n",
    "    plt.imshow(X_train.T[i].reshape(int(784**0.5),-1))\n",
    "    plt.show()"
   ]
  },
  {
   "cell_type": "code",
   "execution_count": 4,
   "metadata": {},
   "outputs": [],
   "source": [
    "# initialization\n",
    "params = {\"W1\": np.random.randn(opt[\"n_h\"], opt[\"n_x\"]) * np.sqrt(1. / opt[\"n_x\"]),\n",
    "          \"b1\": np.zeros((opt[\"n_h\"], 1)) * np.sqrt(1. / opt[\"n_x\"]),\n",
    "          \"W2\": np.random.randn(digits, opt[\"n_h\"]) * np.sqrt(1. / opt[\"n_h\"]),\n",
    "          \"b2\": np.zeros((digits, 1)) * np.sqrt(1. / opt[\"n_h\"])}"
   ]
  },
  {
   "cell_type": "code",
   "execution_count": 5,
   "metadata": {},
   "outputs": [],
   "source": [
    "def sigmoid(z):\n",
    "    \"\"\"\n",
    "    sigmoid activation function.\n",
    "\n",
    "    inputs: z\n",
    "    \n",
    "    outputs: sigmoid(z)\n",
    "    \"\"\"\n",
    "    s = 1. / (1. + np.exp(-z))\n",
    "    return s"
   ]
  },
  {
   "cell_type": "code",
   "execution_count": 6,
   "metadata": {},
   "outputs": [],
   "source": [
    "def compute_loss(Y, Y_hat):\n",
    "    \"\"\"\n",
    "    compute loss function\n",
    "    \"\"\"\n",
    "    L_sum = np.sum(np.multiply(Y, np.log(Y_hat)))\n",
    "    m = Y.shape[1]\n",
    "    L = -(1./m) * L_sum\n",
    "\n",
    "    return L"
   ]
  },
  {
   "cell_type": "code",
   "execution_count": 7,
   "metadata": {},
   "outputs": [],
   "source": [
    "def feed_forward(X, params):\n",
    "    \"\"\"\n",
    "    feed forward network: 2 - layer neural net\n",
    "\n",
    "    inputs:\n",
    "        params: dictionay a dictionary contains all the weights and biases\n",
    "\n",
    "    return:\n",
    "        cache: dictionay a dictionary contains all the fully connected units and activations\n",
    "    \"\"\"\n",
    "    cache = {}\n",
    "\n",
    "    # Z1 = W1.dot(x) + b1\n",
    "    cache[\"Z1\"] = np.matmul(params[\"W1\"], X) + params[\"b1\"]\n",
    "\n",
    "    # A1 = sigmoid(Z1)\n",
    "    cache[\"A1\"] = sigmoid(cache[\"Z1\"])\n",
    "\n",
    "    # Z2 = W2.dot(A1) + b2\n",
    "    cache[\"Z2\"] = np.matmul(params[\"W2\"], cache[\"A1\"]) + params[\"b2\"]\n",
    "\n",
    "    # A2 = softmax(Z2)\n",
    "    cache[\"A2\"] = np.exp(cache[\"Z2\"]) / np.sum(np.exp(cache[\"Z2\"]), axis=0)\n",
    "\n",
    "    return cache"
   ]
  },
  {
   "cell_type": "code",
   "execution_count": 8,
   "metadata": {},
   "outputs": [],
   "source": [
    "def back_propagate(X, Y, params, cache, m_batch):\n",
    "    \"\"\"\n",
    "    back propagation\n",
    "\n",
    "    inputs:\n",
    "        params: dictionay a dictionary contains all the weights and biases\n",
    "        cache: dictionay a dictionary contains all the fully connected units and activations\n",
    "\n",
    "    return:\n",
    "        grads: dictionay a dictionary contains the gradients of corresponding weights and biases\n",
    "    \"\"\"\n",
    "    # error at last layer\n",
    "    dZ2 = cache[\"A2\"] - Y\n",
    "\n",
    "    # gradients at last layer (Py2 need 1. to transform to float)\n",
    "    dW2 = (1. / m_batch) * np.matmul(dZ2, cache[\"A1\"].T)\n",
    "    db2 = (1. / m_batch) * np.sum(dZ2, axis=1, keepdims=True)\n",
    "\n",
    "    # back propgate through first layer\n",
    "    dA1 = np.matmul(params[\"W2\"].T, dZ2)\n",
    "    dZ1 = dA1 * sigmoid(cache[\"Z1\"]) * (1 - sigmoid(cache[\"Z1\"]))\n",
    "\n",
    "    # gradients at first layer (Py2 need 1. to transform to float)\n",
    "    dW1 = (1. / m_batch) * np.matmul(dZ1, X.T)\n",
    "    db1 = (1. / m_batch) * np.sum(dZ1, axis=1, keepdims=True)\n",
    "\n",
    "    grads = {\"dW1\": dW1, \"db1\": db1, \"dW2\": dW2, \"db2\": db2}\n",
    "\n",
    "    return grads\n"
   ]
  },
  {
   "cell_type": "code",
   "execution_count": 9,
   "metadata": {},
   "outputs": [
    {
     "name": "stdout",
     "output_type": "stream",
     "text": [
      "Epoch 1: training loss = 0.807676055598168, test loss = 0.7892788000667379\n",
      "Epoch 2: training loss = 0.5239935966997753, test loss = 0.5046638133843891\n",
      "Epoch 3: training loss = 0.47197982873196603, test loss = 0.45495938100228134\n",
      "Epoch 4: training loss = 0.3790309952083612, test loss = 0.3603143194681983\n",
      "Epoch 5: training loss = 0.3597105457873166, test loss = 0.3421829196785463\n",
      "Epoch 6: training loss = 0.34433793872291557, test loss = 0.3262335645987243\n",
      "Epoch 7: training loss = 0.3239133178699333, test loss = 0.31117966306657296\n",
      "Epoch 8: training loss = 0.3014529628139515, test loss = 0.2899977040605068\n",
      "Epoch 9: training loss = 0.29275050287637117, test loss = 0.28063200803169797\n",
      "Epoch 10: training loss = 0.2841156027665997, test loss = 0.2708937259432107\n",
      "Epoch 11: training loss = 0.2784368221453087, test loss = 0.26646471071872974\n",
      "Epoch 12: training loss = 0.27186602894554107, test loss = 0.2626087433105066\n",
      "Epoch 13: training loss = 0.2657858622932657, test loss = 0.26101513440273205\n",
      "Epoch 14: training loss = 0.2755725914492817, test loss = 0.2641143772794899\n",
      "Epoch 15: training loss = 0.2471794901979022, test loss = 0.23739628711672933\n",
      "Epoch 16: training loss = 0.24793470018613503, test loss = 0.24363300751240902\n",
      "Epoch 17: training loss = 0.23991849814526198, test loss = 0.23669172473127761\n",
      "Epoch 18: training loss = 0.22821898967890467, test loss = 0.22524550834102075\n",
      "Epoch 19: training loss = 0.22861066815657685, test loss = 0.22680272539906238\n",
      "Epoch 20: training loss = 0.22200993641146652, test loss = 0.2189067620461367\n",
      "Epoch 21: training loss = 0.21506730234222346, test loss = 0.21187441203685609\n",
      "Epoch 22: training loss = 0.20950006439961097, test loss = 0.20683779609630412\n",
      "Epoch 23: training loss = 0.21174689442414477, test loss = 0.2099352778648622\n",
      "Epoch 24: training loss = 0.20373804604838133, test loss = 0.2039968568987018\n",
      "Epoch 25: training loss = 0.2074453008621499, test loss = 0.20562008743900292\n",
      "Epoch 26: training loss = 0.19833947206686547, test loss = 0.1970858189255695\n",
      "Epoch 27: training loss = 0.19562934145159358, test loss = 0.19806776664749215\n",
      "Epoch 28: training loss = 0.19615034155766425, test loss = 0.19675108181083403\n",
      "Epoch 29: training loss = 0.1897295899661452, test loss = 0.19090048138186086\n",
      "Epoch 30: training loss = 0.18697232211683526, test loss = 0.18832573260759516\n",
      "Epoch 31: training loss = 0.1905586630028625, test loss = 0.19543868016673033\n",
      "Epoch 32: training loss = 0.18468554831224296, test loss = 0.1898627197977667\n",
      "Epoch 33: training loss = 0.1778919909224111, test loss = 0.17861994859519448\n",
      "Epoch 34: training loss = 0.1765057194056431, test loss = 0.1805668177683067\n",
      "Epoch 35: training loss = 0.17196496843836115, test loss = 0.17719124487382454\n",
      "Epoch 36: training loss = 0.17237071682968966, test loss = 0.17890054970200556\n",
      "Epoch 37: training loss = 0.16866178810857857, test loss = 0.17241515934296445\n",
      "Epoch 38: training loss = 0.16681181253583346, test loss = 0.17251274299390945\n",
      "Epoch 39: training loss = 0.16690176454493733, test loss = 0.17160129004325106\n",
      "Epoch 40: training loss = 0.16021932961207397, test loss = 0.16267584992638248\n",
      "Epoch 41: training loss = 0.15723532397294965, test loss = 0.16211578272170793\n",
      "Epoch 42: training loss = 0.15778727437842385, test loss = 0.16196630302720508\n",
      "Epoch 43: training loss = 0.1543644204154151, test loss = 0.16319285557434499\n",
      "Epoch 44: training loss = 0.15178603610047864, test loss = 0.16049779801536004\n",
      "Epoch 45: training loss = 0.15152512040997432, test loss = 0.15717914635222519\n",
      "Epoch 46: training loss = 0.1508716245629926, test loss = 0.15835175973835688\n",
      "Epoch 47: training loss = 0.14595030109909382, test loss = 0.15472298425675854\n",
      "Epoch 48: training loss = 0.14344325439162264, test loss = 0.15253832731969033\n",
      "Epoch 49: training loss = 0.143734019468215, test loss = 0.1541004340865985\n",
      "Epoch 50: training loss = 0.139386355340473, test loss = 0.15079291920700552\n"
     ]
    }
   ],
   "source": [
    "# training\n",
    "time_i=time.time()\n",
    "for i in range(opt[\"epochs\"]):\n",
    "\n",
    "    # shuffle training set\n",
    "    permutation = np.random.permutation(X_train.shape[1])\n",
    "    X_train_shuffled = X_train[:, permutation]\n",
    "    Y_train_shuffled = Y_train[:, permutation]\n",
    "\n",
    "    for j in range(opt[\"batch_size\"]):\n",
    "\n",
    "        # get mini-batch\n",
    "        begin = j * opt[\"batch_size\"]\n",
    "        end = min(begin + opt[\"batch_size\"], X_train.shape[1] - 1)\n",
    "        X = X_train_shuffled[:, begin:end]\n",
    "        Y = Y_train_shuffled[:, begin:end]\n",
    "        m_batch = end - begin\n",
    "\n",
    "        # forward and backward\n",
    "        cache = feed_forward(X, params)\n",
    "        grads = back_propagate(X, Y, params, cache, m_batch)\n",
    "\n",
    "        # with momentum (optional)\n",
    "        grads[\"dW1\"] = (opt[\"beta\"] * grads[\"dW1\"] + (1. - opt[\"beta\"]) * grads[\"dW1\"])\n",
    "        grads[\"db1\"] = (opt[\"beta\"] * grads[\"db1\"] + (1. - opt[\"beta\"]) * grads[\"db1\"])\n",
    "        grads[\"dW2\"] = (opt[\"beta\"] * grads[\"dW2\"] + (1. - opt[\"beta\"]) * grads[\"dW2\"])\n",
    "        grads[\"db2\"] = (opt[\"beta\"] * grads[\"db2\"] + (1. - opt[\"beta\"]) * grads[\"db2\"])\n",
    "\n",
    "        # gradient descent\n",
    "        params[\"W1\"] = params[\"W1\"] - opt[\"lr\"] * grads[\"dW1\"]\n",
    "        params[\"b1\"] = params[\"b1\"] - opt[\"lr\"] * grads[\"db1\"]\n",
    "        params[\"W2\"] = params[\"W2\"] - opt[\"lr\"] * grads[\"dW2\"]\n",
    "        params[\"b2\"] = params[\"b2\"] - opt[\"lr\"] * grads[\"db2\"]\n",
    "\n",
    "    # forward pass on training set\n",
    "    cache = feed_forward(X_train, params)\n",
    "    train_loss = compute_loss(Y_train, cache[\"A2\"])\n",
    "\n",
    "    # forward pass on test set\n",
    "    cache = feed_forward(X_test, params)\n",
    "    test_loss = compute_loss(Y_test, cache[\"A2\"])\n",
    "    print(\"Epoch {}: training loss = {}, test loss = {}\".format(\n",
    "        i + 1, train_loss, test_loss))\n",
    "time_f=time.time()"
   ]
  },
  {
   "cell_type": "code",
   "execution_count": 10,
   "metadata": {},
   "outputs": [
    {
     "name": "stdout",
     "output_type": "stream",
     "text": [
      "              precision    recall  f1-score   support\n",
      "\n",
      "           0       0.96      0.99      0.97       980\n",
      "           1       0.98      0.98      0.98      1135\n",
      "           2       0.96      0.94      0.95      1032\n",
      "           3       0.95      0.96      0.95      1010\n",
      "           4       0.95      0.96      0.96       982\n",
      "           5       0.95      0.93      0.94       892\n",
      "           6       0.95      0.96      0.96       958\n",
      "           7       0.96      0.94      0.95      1028\n",
      "           8       0.95      0.95      0.95       974\n",
      "           9       0.95      0.92      0.94      1009\n",
      "\n",
      "    accuracy                           0.95     10000\n",
      "   macro avg       0.95      0.95      0.95     10000\n",
      "weighted avg       0.96      0.95      0.95     10000\n",
      "\n"
     ]
    }
   ],
   "source": [
    "cache = feed_forward(X_test, params)\n",
    "Y_pred=cache[\"A2\"]\n",
    "print(classification_report(y_pred=Y_pred.argmax(axis=0),y_true=Y_test.argmax(axis=0)))"
   ]
  },
  {
   "cell_type": "code",
   "execution_count": 11,
   "metadata": {},
   "outputs": [
    {
     "name": "stdout",
     "output_type": "stream",
     "text": [
      "time of training 45.26097583770752\n"
     ]
    }
   ],
   "source": [
    "print(\"time of training\",time_f-time_i)"
   ]
  }
 ],
 "metadata": {
  "kernelspec": {
   "display_name": "Python 3",
   "language": "python",
   "name": "python3"
  },
  "language_info": {
   "codemirror_mode": {
    "name": "ipython",
    "version": 3
   },
   "file_extension": ".py",
   "mimetype": "text/x-python",
   "name": "python",
   "nbconvert_exporter": "python",
   "pygments_lexer": "ipython3",
   "version": "3.7.3"
  }
 },
 "nbformat": 4,
 "nbformat_minor": 2
}
